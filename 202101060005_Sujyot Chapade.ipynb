{
 "cells": [
  {
   "cell_type": "code",
   "execution_count": 3,
   "id": "c145ba82",
   "metadata": {},
   "outputs": [],
   "source": [
    "#Name:Sujyot S. Chapade\n",
    "#prn:202101060005\n",
    "#Assignment inclass"
   ]
  },
  {
   "cell_type": "code",
   "execution_count": 27,
   "id": "c5a37a5d",
   "metadata": {},
   "outputs": [],
   "source": [
    "favfoods = ['dosa', 'upma', 'paneer']\n"
   ]
  },
  {
   "cell_type": "code",
   "execution_count": 5,
   "id": "e929968a",
   "metadata": {},
   "outputs": [
    {
     "name": "stdout",
     "output_type": "stream",
     "text": [
      "upma\n"
     ]
    }
   ],
   "source": [
    "print(favfoods[1])  "
   ]
  },
  {
   "cell_type": "code",
   "execution_count": 15,
   "id": "0ad866f5",
   "metadata": {},
   "outputs": [
    {
     "name": "stdout",
     "output_type": "stream",
     "text": [
      "['paneer', 'upma', 'dosa']\n"
     ]
    }
   ],
   "source": [
    "print(reversed_favfoods)\n"
   ]
  },
  {
   "cell_type": "code",
   "execution_count": 19,
   "id": "19f0c429",
   "metadata": {},
   "outputs": [
    {
     "name": "stdout",
     "output_type": "stream",
     "text": [
      "['paneer', 'upma', 'dosa']\n"
     ]
    }
   ],
   "source": [
    "reversed_favfoods = favfoods[::-1]\n",
    "print(reversed_favfoods) "
   ]
  },
  {
   "cell_type": "code",
   "execution_count": 20,
   "id": "649e25b2",
   "metadata": {},
   "outputs": [
    {
     "name": "stdout",
     "output_type": "stream",
     "text": [
      "['DOSA', 'UPMA', 'PANEER']\n"
     ]
    }
   ],
   "source": [
    "favfoods_upper = [food.upper() for food in favfoods]\n",
    "\n",
    "print(favfoods_upper)"
   ]
  },
  {
   "cell_type": "code",
   "execution_count": 21,
   "id": "e1f387c0",
   "metadata": {},
   "outputs": [
    {
     "name": "stdout",
     "output_type": "stream",
     "text": [
      "MY NAME IS JOHN\n"
     ]
    }
   ],
   "source": [
    "string = \"my name is john\"\n",
    "ustring =string.upper()\n",
    "\n",
    "print(ustring)\n"
   ]
  },
  {
   "cell_type": "code",
   "execution_count": 22,
   "id": "23a82d6b",
   "metadata": {},
   "outputs": [],
   "source": [
    "favorite_foods_upper=['PANNER','DOSA','PAVBHAJI']"
   ]
  },
  {
   "cell_type": "code",
   "execution_count": 23,
   "id": "c03188e3",
   "metadata": {},
   "outputs": [],
   "source": [
    "countries = ['United States', 'Colombia', 'Japan', 'Kenya']\n"
   ]
  },
  {
   "cell_type": "code",
   "execution_count": 25,
   "id": "b2306ec2",
   "metadata": {},
   "outputs": [
    {
     "name": "stdout",
     "output_type": "stream",
     "text": [
      "Japan\n"
     ]
    }
   ],
   "source": [
    "print(countries[2])"
   ]
  },
  {
   "cell_type": "code",
   "execution_count": 26,
   "id": "86153d70",
   "metadata": {},
   "outputs": [
    {
     "name": "stdout",
     "output_type": "stream",
     "text": [
      "4\n"
     ]
    }
   ],
   "source": [
    "print(len(countries))"
   ]
  }
 ],
 "metadata": {
  "kernelspec": {
   "display_name": "Python 3 (ipykernel)",
   "language": "python",
   "name": "python3"
  },
  "language_info": {
   "codemirror_mode": {
    "name": "ipython",
    "version": 3
   },
   "file_extension": ".py",
   "mimetype": "text/x-python",
   "name": "python",
   "nbconvert_exporter": "python",
   "pygments_lexer": "ipython3",
   "version": "3.9.12"
  }
 },
 "nbformat": 4,
 "nbformat_minor": 5
}
