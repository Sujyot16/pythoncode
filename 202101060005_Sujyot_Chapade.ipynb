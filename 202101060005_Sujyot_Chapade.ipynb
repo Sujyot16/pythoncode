{
 "cells": [
  {
   "cell_type": "code",
   "execution_count": null,
   "id": "cc48cebb",
   "metadata": {},
   "outputs": [],
   "source": [
    "#Name:Sujyot Chapade\n",
    "#Batch 1\n",
    "#Homework Assignment\n",
    "#Date:15 feb 2024"
   ]
  },
  {
   "cell_type": "code",
   "execution_count": null,
   "id": "5d2cc10a",
   "metadata": {},
   "outputs": [],
   "source": [
    "prime_numbers = (2, 3, 5, 7, 11, 13, 17, 19, 23, 29, 31, 37, 41, 43, 47, 53, 59, 61, 67, 71)\n"
   ]
  },
  {
   "cell_type": "code",
   "execution_count": 3,
   "id": "026e8a0a",
   "metadata": {},
   "outputs": [
    {
     "name": "stdout",
     "output_type": "stream",
     "text": [
      "(4, 9, 25, 49, 121, 169, 289, 361, 529, 841, 961, 1369, 1681, 1849, 2209, 2809, 3481, 3721, 4489, 5041)\n"
     ]
    }
   ],
   "source": [
    "def square_primes(prime_numbers):\n",
    "    return tuple(num ** 2 for num in prime_numbers)\n",
    "\n",
    "squared_primes = square_primes(prime_numbers)\n",
    "print(squared_primes)\n"
   ]
  },
  {
   "cell_type": "code",
   "execution_count": 5,
   "id": "4fd92e7d",
   "metadata": {},
   "outputs": [
    {
     "name": "stdout",
     "output_type": "stream",
     "text": [
      "John's age: 20\n",
      "Alice's favorite subjects: ['Biology', 'Chemistry', 'English']\n"
     ]
    }
   ],
   "source": [
    "student_database = {\n",
    "    \"John\": {\"age\": 20, \"favorite_subjects\": [\"Math\", \"Physics\", \"Computer Science\"]},\n",
    "    \"Alice\": {\"age\": 21, \"favorite_subjects\": [\"Biology\", \"Chemistry\", \"English\"]},\n",
    "    \"Emma\": {\"age\": 19, \"favorite_subjects\": [\"History\", \"Literature\", \"Art\"]},\n",
    "}\n",
    "print(\"John's age:\", student_database[\"John\"][\"age\"])\n",
    "print(\"Alice's favorite subjects:\", student_database[\"Alice\"][\"favorite_subjects\"])"
   ]
  },
  {
   "cell_type": "code",
   "execution_count": 6,
   "id": "87d1d0df",
   "metadata": {},
   "outputs": [
    {
     "name": "stdout",
     "output_type": "stream",
     "text": [
      "{'John': {'age': 20, 'favorite_subjects': ['Math', 'Physics', 'Computer Science']}, 'Alice': {'age': 21, 'favorite_subjects': ['Biology', 'Chemistry', 'English']}, 'Emma': {'age': 19, 'favorite_subjects': ['History', 'Literature', 'Art']}, 'student3': {'name': 'Charlie', 'age': 21, 'favorite_subjects': ['Chemistry', 'Biology', 'Music']}}\n"
     ]
    }
   ],
   "source": [
    "new_student_data = {\n",
    "    \"name\": \"Charlie\",\n",
    "    \"age\": 21,\n",
    "    \"favorite_subjects\": [\"Chemistry\", \"Biology\", \"Music\"]\n",
    "}\n",
    "student_database[\"student3\"] = new_student_data\n",
    "\n",
    "print(student_database)"
   ]
  },
  {
   "cell_type": "code",
   "execution_count": 8,
   "id": "78839f91",
   "metadata": {},
   "outputs": [
    {
     "name": "stdout",
     "output_type": "stream",
     "text": [
      "Average age of Alice: 20\n"
     ]
    }
   ],
   "source": [
    "def average_age(student_name, student_database):\n",
    "    # Check if the student exists in the database\n",
    "    if student_name in student_database:\n",
    "        # Get the student's data from the database\n",
    "        student_data = student_database[student_name]\n",
    "        # Calculate the average age\n",
    "        if isinstance(student_data, dict) and \"age\" in student_data:\n",
    "            return student_data[\"age\"]\n",
    "        else:\n",
    "            return \"Invalid student data format\"\n",
    "    else:\n",
    "        return \"Student not found in the database\"\n",
    "\n",
    "student_database = {\n",
    "    \"Alice\": {\"age\": 20},\n",
    "    \"Bob\": {\"age\": 22},\n",
    "    \"Charlie\": {\"age\": 21}\n",
    "}\n",
    "\n",
    "student_name = \"Alice\"\n",
    "print(f\"Average age of {student_name}: {average_age(student_name, student_database)}\")\n"
   ]
  },
  {
   "cell_type": "code",
   "execution_count": 9,
   "id": "62fc9d49",
   "metadata": {},
   "outputs": [
    {
     "name": "stdout",
     "output_type": "stream",
     "text": [
      "Random integers set: {96, 2, 36, 68, 6, 71, 38, 73, 41, 79}\n"
     ]
    }
   ],
   "source": [
    "import random\n",
    "\n",
    "random_integers_set = set()\n",
    "\n",
    "for _ in range(10):\n",
    "    random_int = random.randint(1, 100)\n",
    "    random_integers_set.add(random_int)\n",
    "\n",
    "print(\"Random integers set:\", random_integers_set)\n"
   ]
  },
  {
   "cell_type": "code",
   "execution_count": 10,
   "id": "e7c4b9c8",
   "metadata": {},
   "outputs": [
    {
     "name": "stdout",
     "output_type": "stream",
     "text": [
      "Set 1: {91, 14, 15, 80, 18, 57, 27, 60, 29, 30}\n",
      "Set 2: {1, 71, 8, 42, 75, 45, 78, 47, 79, 86, 88, 91, 29, 95, 63}\n",
      "Intersection: {91, 29}\n",
      "Union: {1, 71, 8, 75, 14, 15, 80, 78, 18, 79, 86, 88, 91, 27, 29, 30, 95, 42, 45, 47, 57, 60, 63}\n"
     ]
    }
   ],
   "source": [
    "import random\n",
    "\n",
    "def generate_random_set(size):\n",
    "    return set(random.randint(1, 100) for _ in range(size))\n",
    "\n",
    "def intersection_and_union(set1, set2):\n",
    "    intersection = set1.intersection(set2)\n",
    "    union = set1.union(set2)\n",
    "    return intersection, union\n",
    "\n",
    "# Generating random sets\n",
    "set1 = generate_random_set(10)\n",
    "set2 = generate_random_set(15)\n",
    "\n",
    "# Displaying the generated sets\n",
    "print(\"Set 1:\", set1)\n",
    "print(\"Set 2:\", set2)\n",
    "\n",
    "# Calculating intersection and union\n",
    "intersection, union = intersection_and_union(set1, set2)\n",
    "\n",
    "# Displaying the intersection and union\n",
    "print(\"Intersection:\", intersection)\n",
    "print(\"Union:\", union)\n"
   ]
  },
  {
   "cell_type": "code",
   "execution_count": 11,
   "id": "135e088a",
   "metadata": {},
   "outputs": [
    {
     "name": "stdout",
     "output_type": "stream",
     "text": [
      "Tuple 1: (10, 'hello', 3.14)\n",
      "Concatenated Tuple: (1, 2, 3, 4, 5, 6)\n"
     ]
    }
   ],
   "source": [
    "#To be done in class\n",
    "#Create a tuple with three elements: 10, “hello”, and 3.14.Concatenate the tuples (1, 2, 3) and (4, 5, 6) and store the result in a new tuple\n",
    "# Creating a tuple with three elements\n",
    "tuple1 = (10, \"hello\", 3.14)\n",
    "\n",
    "# Concatenating two tuples\n",
    "tuple2 = (1, 2, 3)\n",
    "tuple3 = (4, 5, 6)\n",
    "concatenated_tuple = tuple2 + tuple3\n",
    "\n",
    "# Displaying the tuples\n",
    "print(\"Tuple 1:\", tuple1)\n",
    "print(\"Concatenated Tuple:\", concatenated_tuple)\n"
   ]
  },
  {
   "cell_type": "code",
   "execution_count": 13,
   "id": "6e045d43",
   "metadata": {},
   "outputs": [
    {
     "name": "stdout",
     "output_type": "stream",
     "text": [
      "The phone number of Aman is 123-456-7890\n"
     ]
    }
   ],
   "source": [
    "#Dictionary Exploration: Create a dictionary representing a phone book. Each entry should have a person’s name as the key and their phone number as the value. Add a new contact to the phone book. Retrieve the phone number of a specific person.Dictionary Iteration: Given a dictionary of student names and their corresponding grades, calculate the average grade. Find the student with the highest grade.\n",
    "# Creating a phone book dictionary\n",
    "phone_book = {\n",
    "    \"Aman\": \"123-456-7890\",\n",
    "    \"Boob\": \"987-654-3210\",\n",
    "    \"arnav\": \"456-789-0123\"\n",
    "}\n",
    "\n",
    "# Adding a new contact to the phone book\n",
    "phone_book[\"David\"] = \"555-123-4567\"\n",
    "\n",
    "# Retrieving the phone number of a specific person\n",
    "person = \"Aman\"\n",
    "phone_number = phone_book.get(person)\n",
    "if phone_number:\n",
    "    print(f\"The phone number of {person} is {phone_number}\")\n",
    "else:\n",
    "    print(f\"{person} is not found in the phone book\")\n"
   ]
  },
  {
   "cell_type": "code",
   "execution_count": 14,
   "id": "237371c7",
   "metadata": {},
   "outputs": [
    {
     "name": "stdout",
     "output_type": "stream",
     "text": [
      "Average grade: 87.5\n",
      "Student with the highest grade: David with a grade of 95\n"
     ]
    }
   ],
   "source": [
    "# Dictionary of student names and their corresponding grades\n",
    "student_grades = {\n",
    "    \"Alice\": 85,\n",
    "    \"Bob\": 92,\n",
    "    \"Charlie\": 78,\n",
    "    \"David\": 95\n",
    "}\n",
    "\n",
    "# Calculate the average grade\n",
    "average_grade = sum(student_grades.values()) / len(student_grades)\n",
    "print(\"Average grade:\", average_grade)\n",
    "\n",
    "# Find the student with the highest grade\n",
    "highest_grade_student = max(student_grades, key=student_grades.get)\n",
    "highest_grade = student_grades[highest_grade_student]\n",
    "print(f\"Student with the highest grade: {highest_grade_student} with a grade of {highest_grade}\")\n"
   ]
  },
  {
   "cell_type": "code",
   "execution_count": 15,
   "id": "dd3e01ea",
   "metadata": {},
   "outputs": [
    {
     "name": "stdout",
     "output_type": "stream",
     "text": [
      "Students taking both math and physics: set()\n",
      "All unique students: {'Alice', 'Frank', 'Chetan', 'Aman', 'Booby', 'Eve', 'deep', 'Charlie'}\n"
     ]
    }
   ],
   "source": [
    "#Set Operations: \n",
    "#Create two sets: one representing math students and another representing physics students. \n",
    "#Determine the intersection of these sets (students who study both math and physics). \n",
    "#Find the union of the sets (all unique students). \n",
    "# Creating sets representing math students and physics students\n",
    "math_students = {\"Aman\", \"Booby\", \"Chetan\", \"deep\"}\n",
    "physics_students = {\"Alice\", \"Eve\", \"Charlie\", \"Frank\"}\n",
    "\n",
    "# Determining the intersection of these sets (students who study both math and physics)\n",
    "students_taking_both = math_students & physics_students\n",
    "print(\"Students taking both math and physics:\", students_taking_both)\n",
    "\n",
    "# Finding the union of the sets (all unique students)\n",
    "all_students = math_students | physics_students\n",
    "print(\"All unique students:\", all_students)\n"
   ]
  },
  {
   "cell_type": "code",
   "execution_count": 18,
   "id": "3e4b7ed9",
   "metadata": {},
   "outputs": [
    {
     "name": "stdout",
     "output_type": "stream",
     "text": [
      "Math students after removing Bob: {'deep', 'Aman', 'Chetan'}\n",
      "Physics students after adding Greg: {'Alice', 'Frank', 'Greg', 'Eve', 'Charlie'}\n"
     ]
    }
   ],
   "source": [
    "#Set Manipulation: \n",
    "Remove a specific student from the math student set. \n",
    "Add a new student to the physics student set.\n",
    "math_students.remove(\"Booby\")\n",
    "print(\"Math students after removing Bob:\", math_students)\n",
    "\n",
    "# Adding a new student to the physics student set\n",
    "physics_students.add(\"Greg\")\n",
    "print(\"Physics students after adding Greg:\", physics_students)"
   ]
  }
 ],
 "metadata": {
  "kernelspec": {
   "display_name": "Python 3 (ipykernel)",
   "language": "python",
   "name": "python3"
  },
  "language_info": {
   "codemirror_mode": {
    "name": "ipython",
    "version": 3
   },
   "file_extension": ".py",
   "mimetype": "text/x-python",
   "name": "python",
   "nbconvert_exporter": "python",
   "pygments_lexer": "ipython3",
   "version": "3.9.12"
  }
 },
 "nbformat": 4,
 "nbformat_minor": 5
}
